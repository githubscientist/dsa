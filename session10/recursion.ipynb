{
 "cells": [
  {
   "cell_type": "code",
   "execution_count": 5,
   "metadata": {},
   "outputs": [],
   "source": [
    "result = 0\n",
    "\n",
    "def S(N):\n",
    "    global result\n",
    "    if N == 0:\n",
    "        return result\n",
    "\n",
    "    result += N \n",
    "    return S(N-1)"
   ]
  },
  {
   "cell_type": "code",
   "execution_count": 4,
   "metadata": {},
   "outputs": [
    {
     "name": "stdout",
     "output_type": "stream",
     "text": [
      "55\n",
      "65\n",
      "65\n",
      "66\n",
      "81\n"
     ]
    }
   ],
   "source": [
    "# tester code\n",
    "print(S(10)) # 55\n",
    "print(S(4)) # 10\n",
    "print(S(0)) # 0\n",
    "print(S(1)) # 1\n",
    "print(S(5)) # 15"
   ]
  },
  {
   "cell_type": "code",
   "execution_count": 8,
   "metadata": {},
   "outputs": [],
   "source": [
    "# def S(N, result = 0):\n",
    "#     if N == 0:\n",
    "#         return result\n",
    "\n",
    "#     result += N\n",
    "#     return S(N-1, result)\n",
    "\n",
    "def S(N, result=0):\n",
    "    if N == 0:\n",
    "        return result\n",
    "\n",
    "    return S(N-1, result + N)\n",
    "\n",
    "'''\n",
    "    S(4)\n",
    "        - N = 4, result = 0\n",
    "        - return S(3, 4)\n",
    "                  - N = 3, result = 4\n",
    "                  - return S(2, 7)\n",
    "                            - N = 2, result = 7\n",
    "                            - return S(1, 9)\n",
    "                                        - N = 1, result = 9\n",
    "                                        - return S(0, 10)\n",
    "                                                    - N = 0, result = 10\n",
    "                                                    - 0 == 0; true; return 10\n",
    "\n",
    "\n",
    "    10\n",
    "'''"
   ]
  },
  {
   "cell_type": "code",
   "execution_count": 9,
   "metadata": {},
   "outputs": [
    {
     "name": "stdout",
     "output_type": "stream",
     "text": [
      "55\n",
      "10\n",
      "0\n",
      "1\n",
      "15\n"
     ]
    }
   ],
   "source": [
    "# tester code\n",
    "print(S(10))  # 55\n",
    "print(S(4))  # 10\n",
    "print(S(0))  # 0\n",
    "print(S(1))  # 1\n",
    "print(S(5))  # 15"
   ]
  },
  {
   "cell_type": "markdown",
   "metadata": {},
   "source": [
    "Write a recursion function to print the product of first N natural numbers. (factorial)"
   ]
  },
  {
   "cell_type": "code",
   "execution_count": 10,
   "metadata": {},
   "outputs": [],
   "source": [
    "def f(N, product = 1):\n",
    "\n",
    "    if N == 0:\n",
    "        return product\n",
    "\n",
    "    return f(N-1, N * product)"
   ]
  },
  {
   "cell_type": "code",
   "execution_count": 11,
   "metadata": {},
   "outputs": [
    {
     "name": "stdout",
     "output_type": "stream",
     "text": [
      "720\n",
      "24\n",
      "1\n",
      "1\n",
      "120\n"
     ]
    }
   ],
   "source": [
    "# tester code\n",
    "print(f(6))  # 720\n",
    "print(f(4))  # 24\n",
    "print(f(0))  # 1\n",
    "print(f(1))  # 1\n",
    "print(f(5))  # 120"
   ]
  },
  {
   "cell_type": "markdown",
   "metadata": {},
   "source": [
    "recurrence relation: is a way of defining the terms of a sequence with respect to the values of previous terms."
   ]
  },
  {
   "cell_type": "code",
   "execution_count": null,
   "metadata": {},
   "outputs": [],
   "source": [
    "# sum of first n natural numbers"
   ]
  },
  {
   "cell_type": "markdown",
   "metadata": {},
   "source": [
    "S(n) = ?\n",
    "\n",
    "--------------------------\n",
    "\n",
    "S(1) = 1\n",
    "S(2) = 1 + 2 = 3\n",
    "S(3) = 1 + 2 + 3 = 6\n",
    "S(4) = 1 + 2 + 3 + 4 = 10\n",
    "S(5) = 1 + 2 + 3 + 4 + 5 = 15\n",
    "\n",
    "--------------------------\n",
    "\n",
    "Backward Substitution\n",
    "\n",
    "S(1) = 1 (Base case)\n",
    "\n",
    "S(2) = S(1) + 2 = 3\n",
    "S(3) = S(2) + 3 = 6\n",
    "S(4) = S(3) + 4 = 10\n",
    "S(5) = S(4) + 5 = 15\n",
    "\n",
    "Generalize:\n",
    "\n",
    "For n=1, S(n) = 1\n",
    "For n>1, S(n) = S(n-1) + n # recurrence relation"
   ]
  },
  {
   "cell_type": "code",
   "execution_count": 12,
   "metadata": {},
   "outputs": [],
   "source": [
    "def S(n):\n",
    "    # For n=1, S(n) = 1\n",
    "    if n == 1: \n",
    "        return 1\n",
    "    # For n>1, S(n) = S(n-1) + n\n",
    "    return S(n-1) + n"
   ]
  },
  {
   "cell_type": "code",
   "execution_count": 14,
   "metadata": {},
   "outputs": [
    {
     "data": {
      "text/plain": [
       "55"
      ]
     },
     "execution_count": 14,
     "metadata": {},
     "output_type": "execute_result"
    }
   ],
   "source": [
    "S(10)"
   ]
  },
  {
   "cell_type": "code",
   "execution_count": null,
   "metadata": {},
   "outputs": [],
   "source": [
    "# Write a recursion function to find the factorial of a number or finding the product of first N natural numbers"
   ]
  },
  {
   "cell_type": "markdown",
   "metadata": {},
   "source": [
    "Homework Problems:\n",
    "\n",
    "1. Write a recursive function to find the Nth term of the Fibonacci sequence (using recurrence relation or normal way) - Also write the iterative version of the same function. (3 solutions)\n",
    "\n",
    "Example:\n",
    "\n",
    "Input: 5\n",
    "\n",
    "Output: 3\n",
    "\n",
    "Input: 10\n",
    "\n",
    "Output: 34\n",
    "\n",
    "Explanation: \n",
    "\n",
    "Fibonacci sequence: 0, 1, 1, 2, 3, 5, 8, 13, 21, 34, ...\n",
    "\n",
    "Due Date: Tuesday (30.01.2024 12:00 PM)"
   ]
  }
 ],
 "metadata": {
  "kernelspec": {
   "display_name": "Python 3",
   "language": "python",
   "name": "python3"
  },
  "language_info": {
   "codemirror_mode": {
    "name": "ipython",
    "version": 3
   },
   "file_extension": ".py",
   "mimetype": "text/x-python",
   "name": "python",
   "nbconvert_exporter": "python",
   "pygments_lexer": "ipython3",
   "version": "3.11.7"
  }
 },
 "nbformat": 4,
 "nbformat_minor": 2
}
