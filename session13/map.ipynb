{
 "cells": [
  {
   "cell_type": "code",
   "execution_count": null,
   "metadata": {},
   "outputs": [],
   "source": [
    "# map -> is a function which takes a function and a list or an iterable and applies the function to all the elements of the iterable"
   ]
  },
  {
   "cell_type": "code",
   "execution_count": 1,
   "metadata": {},
   "outputs": [],
   "source": [
    "def square(x):\n",
    "    return x**2"
   ]
  },
  {
   "cell_type": "code",
   "execution_count": 3,
   "metadata": {},
   "outputs": [
    {
     "name": "stdout",
     "output_type": "stream",
     "text": [
      "[1, 4, 9, 16, 25]\n"
     ]
    }
   ],
   "source": [
    "l = [1, 2, 3, 4, 5]\n",
    "\n",
    "print(list(map(square, l)))"
   ]
  },
  {
   "cell_type": "code",
   "execution_count": null,
   "metadata": {},
   "outputs": [],
   "source": [
    "# input handling\n",
    "# nums = input().split(' ')\n",
    "\n",
    "# Method 1\n",
    "# num1 = int(nums[0])\n",
    "# num2 = int(nums[1])\n",
    "\n",
    "# Method 2\n",
    "# for index in range(len(nums)):\n",
    "#     nums[index] = int(nums[index])\n",
    "\n",
    "# Method 3\n",
    "# nums = [int(val) for val in nums]\n",
    "\n",
    "# Method 3\n",
    "# nums = [int(val) for val in input().split(' ')]\n",
    "\n",
    "# Method 4\n",
    "nums = list(map(int, input().split(' ')))\n",
    "\n",
    "print(nums)"
   ]
  }
 ],
 "metadata": {
  "kernelspec": {
   "display_name": "Python 3",
   "language": "python",
   "name": "python3"
  },
  "language_info": {
   "codemirror_mode": {
    "name": "ipython",
    "version": 3
   },
   "file_extension": ".py",
   "mimetype": "text/x-python",
   "name": "python",
   "nbconvert_exporter": "python",
   "pygments_lexer": "ipython3",
   "version": "3.11.7"
  }
 },
 "nbformat": 4,
 "nbformat_minor": 2
}
