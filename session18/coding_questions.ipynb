{
 "cells": [
  {
   "cell_type": "markdown",
   "metadata": {},
   "source": [
    "Is Unique: Implement an algorithm to determine if a string has all unique characters. What if you cannot use additional data structures?\n",
    "\n",
    "Hints: #44, #117, #132\n",
    "\n",
    "#44 - No\n",
    "#117 - No\n",
    "#132 - Yes"
   ]
  },
  {
   "cell_type": "markdown",
   "metadata": {},
   "source": [
    "Algorithm: (char / ascii code / bit manipulation)\n",
    "\n",
    "1. Traverse/Iterate the string from the starting character\n",
    "2. For each character, check if it is present in the remaining string\n",
    "3. If it is present, return False\n",
    "4. If it is not, continue the iteration with the next character\n",
    "5. If the iteration is completed, return True"
   ]
  },
  {
   "cell_type": "markdown",
   "metadata": {},
   "source": [
    "Algorithm:\n",
    "\n",
    "1. Take a copy of the original string, S1\n",
    "2. Remove the duplicates from the input string, S2\n",
    "3. If the length of S1 and S2 are equal, return True\n",
    "4. If the length of S1 and S2 are not equal, return False"
   ]
  },
  {
   "cell_type": "markdown",
   "metadata": {},
   "source": [
    "Algorithm: (char / ascii code / bit manipulation)\n",
    "\n",
    "1. Traverse/Iterate the string from the starting character\n",
    "2. For each character, check if it is present in the remaining string\n",
    "3. If it is present, return False\n",
    "4. If it is not, continue the iteration with the next character\n",
    "5. If the iteration is completed, return True"
   ]
  },
  {
   "cell_type": "code",
   "execution_count": 4,
   "metadata": {},
   "outputs": [
    {
     "name": "stdout",
     "output_type": "stream",
     "text": [
      "Yes\n"
     ]
    }
   ],
   "source": [
    "def isPresent(char, remLine):\n",
    "    if char in remLine:\n",
    "        return True\n",
    "    else:\n",
    "        return False\n",
    "\n",
    "\n",
    "def isUnique(line):\n",
    "    # Traverse/Iterate the string from the starting character\n",
    "    for index in range(0, len(line)-1):\n",
    "        # For each character, check if it is present in the remaining string\n",
    "        if isPresent(line[index], line[index+1: ]):\n",
    "            # If it is present, return False\n",
    "            return False\n",
    "        # If it is not, continue the iteration with the next character\n",
    "    # If the iteration is completed, return True\n",
    "    return True\n",
    "\n",
    "\n",
    "# process the input\n",
    "line = input()\n",
    "if isUnique(line):\n",
    "    print(\"Yes\")\n",
    "else:\n",
    "    print(\"No\")"
   ]
  },
  {
   "cell_type": "markdown",
   "metadata": {},
   "source": [
    "Algorithm:\n",
    "\n",
    "1. Take a copy of the original string, S1\n",
    "2. Remove the duplicates from the input string, S2\n",
    "3. If the length of S1 and S2 are equal, return True\n",
    "4. If the length of S1 and S2 are not equal, return False"
   ]
  },
  {
   "cell_type": "code",
   "execution_count": 26,
   "metadata": {},
   "outputs": [],
   "source": [
    "# Method 1\n",
    "def removeDuplicates(S2):\n",
    "    # this function should return a string without any duplicates\n",
    "    # convert the string to its set form\n",
    "    setS2 = set(S2)\n",
    "\n",
    "    # convert setS2 back to a string\n",
    "    output = ''\n",
    "\n",
    "    # iterate the set and pick every character from the set\n",
    "    # concatenate it to the string\n",
    "    for char in setS2:\n",
    "        output += char\n",
    "    \n",
    "    return output\n"
   ]
  },
  {
   "cell_type": "code",
   "execution_count": 30,
   "metadata": {},
   "outputs": [],
   "source": [
    "# Method 2\n",
    "def removeDuplicates(S2):\n",
    "    # create an empty list -> output\n",
    "    output = []\n",
    "\n",
    "    # Iterate the string S2\n",
    "    for char in S2:\n",
    "        # for every character, check if the char is already in the output\n",
    "        if char not in output:\n",
    "            # if false => append the char to output list\n",
    "            output.append(char)\n",
    "    \n",
    "    # return the output list as a string\n",
    "    return ''.join(output)"
   ]
  },
  {
   "cell_type": "code",
   "execution_count": 44,
   "metadata": {},
   "outputs": [],
   "source": [
    "# Method 3 (efficient) - Hashing\n",
    "def removeDuplicates(S2):\n",
    "    # prepare or create an empty hashTable\n",
    "    hashTable = {}\n",
    "\n",
    "    # traverse through the string\n",
    "    for char in S2:\n",
    "        # for every char in S2, create an entry in hashTable\n",
    "        hashTable[char] = True\n",
    "    \n",
    "    return ''.join(hashTable.keys())"
   ]
  },
  {
   "cell_type": "code",
   "execution_count": 19,
   "metadata": {},
   "outputs": [
    {
     "data": {
      "text/plain": [
       "{3, 4, 5, 6, 7, 8, 13, 67, 87, 98}"
      ]
     },
     "execution_count": 19,
     "metadata": {},
     "output_type": "execute_result"
    }
   ],
   "source": [
    "set([3, 67, 3, 13, 4, 5, 7, 8, 98, 5, 4, 3, 4, 6, 7, 87])"
   ]
  },
  {
   "cell_type": "code",
   "execution_count": 20,
   "metadata": {},
   "outputs": [
    {
     "data": {
      "text/plain": [
       "{'h', 'n', 'o', 'p', 't', 'y'}"
      ]
     },
     "execution_count": 20,
     "metadata": {},
     "output_type": "execute_result"
    }
   ],
   "source": [
    "set('python')"
   ]
  },
  {
   "cell_type": "code",
   "execution_count": 21,
   "metadata": {},
   "outputs": [
    {
     "data": {
      "text/plain": [
       "{'a', 'e', 'l', 'p'}"
      ]
     },
     "execution_count": 21,
     "metadata": {},
     "output_type": "execute_result"
    }
   ],
   "source": [
    "set('apple')"
   ]
  },
  {
   "cell_type": "code",
   "execution_count": 42,
   "metadata": {},
   "outputs": [
    {
     "name": "stdout",
     "output_type": "stream",
     "text": [
      "aple\n"
     ]
    }
   ],
   "source": [
    "removeDuplicates('apple') # aple"
   ]
  },
  {
   "cell_type": "code",
   "execution_count": 46,
   "metadata": {},
   "outputs": [
    {
     "name": "stdout",
     "output_type": "stream",
     "text": [
      "Yes\n"
     ]
    }
   ],
   "source": [
    "def isUnique(S1):\n",
    "    # 1. Take a copy of the original string, S1\n",
    "    S2 = S1\n",
    "\n",
    "    # 2. Remove the duplicates from the input string, S2\n",
    "    S2 = removeDuplicates(S2)\n",
    "\n",
    "    if len(S1) == len(S2):\n",
    "        # 3. If the length of S1 and S2 are equal, return True\n",
    "        return True\n",
    "    else:\n",
    "        # 4. If the length of S1 and S2 are not equal, return False\n",
    "        return False\n",
    "\n",
    "# input handling\n",
    "line = input()\n",
    "if isUnique(line):\n",
    "    print(\"Yes\")\n",
    "else:\n",
    "    print(\"No\")"
   ]
  },
  {
   "cell_type": "markdown",
   "metadata": {},
   "source": [
    "Check Permutation: Given two strings, write a method to decide if one is a permutation of the\n",
    "other.\n",
    "Hints: #7, #84, #722, #737"
   ]
  },
  {
   "cell_type": "code",
   "execution_count": null,
   "metadata": {},
   "outputs": [],
   "source": [
    "'''\n",
    "    Algorithm #1\n",
    "\n",
    "    1. Find the occurences of each of the characters in string1 and string2\n",
    "    2. Compare the occurences of each of the strings.\n",
    "    3. If it is equal: permutation of each other\n",
    "    4. Else: not a permutation of each other.\n",
    "'''"
   ]
  },
  {
   "cell_type": "code",
   "execution_count": 4,
   "metadata": {},
   "outputs": [
    {
     "name": "stdout",
     "output_type": "stream",
     "text": [
      "Yes\n"
     ]
    }
   ],
   "source": [
    "def isPermutation(string1, string2):\n",
    "    '''\n",
    "        This function should check whether\n",
    "        the first string is the permutation of the second string or vice versa.\n",
    "    '''\n",
    "    # create a hash table for string1\n",
    "\n",
    "    # create an empty dictionary\n",
    "    hashTable1 = {}\n",
    "\n",
    "    # traverse the string, and for each character, create an entry into the dictionary\n",
    "    for character in string1:\n",
    "        hashTable1[character] = 0\n",
    "\n",
    "    for character in string1:\n",
    "        hashTable1[character] += 1\n",
    "\n",
    "    # create a hash table for string2\n",
    "    # create an empty dictionary\n",
    "    hashTable2 = {}\n",
    "\n",
    "    # traverse the string, and for each character, create an entry into the dictionary\n",
    "    for character in string2:\n",
    "        hashTable2[character] = 0\n",
    "\n",
    "    for character in string2:\n",
    "        hashTable2[character] += 1\n",
    "\n",
    "    # compare both the hash tables\n",
    "    return hashTable1 == hashTable2\n",
    "\n",
    "string1 = input()  # 'apple'\n",
    "string2 = input()  # 'elapp'\n",
    "if isPermutation(string1, string2):\n",
    "    print('Yes')\n",
    "else:\n",
    "    print('No')"
   ]
  },
  {
   "cell_type": "code",
   "execution_count": null,
   "metadata": {},
   "outputs": [],
   "source": [
    "'''\n",
    "    Algorithm #2\n",
    "\n",
    "    1. Sort the two strings in alphabetical order\n",
    "    2. Compare two strings, whether they are equal or not.\n",
    "'''"
   ]
  },
  {
   "cell_type": "code",
   "execution_count": 11,
   "metadata": {},
   "outputs": [],
   "source": [
    "def isPermutation(string1, string2):\n",
    "    return ''.join(sorted(string1)) == ''.join(sorted(string2))"
   ]
  },
  {
   "cell_type": "code",
   "execution_count": 13,
   "metadata": {},
   "outputs": [],
   "source": [
    "def isPermutation(string1, string2):\n",
    "    return sorted(string1) == sorted(string2)"
   ]
  },
  {
   "cell_type": "code",
   "execution_count": 14,
   "metadata": {},
   "outputs": [
    {
     "name": "stdout",
     "output_type": "stream",
     "text": [
      "True\n",
      "False\n"
     ]
    }
   ],
   "source": [
    "print(isPermutation('apple', 'elapp')) # True\n",
    "print(isPermutation('apple', 'elaap')) # False"
   ]
  },
  {
   "cell_type": "code",
   "execution_count": 15,
   "metadata": {},
   "outputs": [
    {
     "data": {
      "text/plain": [
       "Counter({'p': 2, 'a': 1, 'l': 1, 'e': 1})"
      ]
     },
     "execution_count": 15,
     "metadata": {},
     "output_type": "execute_result"
    }
   ],
   "source": [
    "from collections import Counter\n",
    "\n",
    "Counter('apple')"
   ]
  },
  {
   "cell_type": "code",
   "execution_count": 19,
   "metadata": {},
   "outputs": [
    {
     "name": "stdout",
     "output_type": "stream",
     "text": [
      "Yes\n"
     ]
    }
   ],
   "source": [
    "from collections import Counter\n",
    "\n",
    "def isPermutation(string1, string2):\n",
    "    '''\n",
    "        This function should check whether\n",
    "        the first string is the permutation of the second string or vice versa.\n",
    "    '''\n",
    "    # compare both the hash tables\n",
    "    return Counter(string1) == Counter(string2)\n",
    "\n",
    "\n",
    "string1 = input()  # 'apple'\n",
    "string2 = input()  # 'elapp'\n",
    "if isPermutation(string1, string2):\n",
    "    print('Yes')\n",
    "else:\n",
    "    print('No')"
   ]
  },
  {
   "cell_type": "markdown",
   "metadata": {},
   "source": [
    "URLify: Write a method to replace all spaces in a string with '%20: You may assume that the string has sufficient space at the end to hold the additional characters, and that you are given the \"true\" length of the string."
   ]
  },
  {
   "cell_type": "code",
   "execution_count": 21,
   "metadata": {},
   "outputs": [
    {
     "name": "stdout",
     "output_type": "stream",
     "text": [
      "Mr%20John%20Smith\n"
     ]
    }
   ],
   "source": [
    "string1 = 'Mr John Smith'\n",
    "result = ''\n",
    "\n",
    "for char in string1:\n",
    "    if char != ' ':\n",
    "        result += char\n",
    "    else:\n",
    "        result += '%20'\n",
    "        \n",
    "print(result)"
   ]
  },
  {
   "cell_type": "markdown",
   "metadata": {},
   "source": [
    "# In Place String %20 replacement"
   ]
  },
  {
   "cell_type": "code",
   "execution_count": 23,
   "metadata": {},
   "outputs": [
    {
     "data": {
      "text/plain": [
       "'John Smith'"
      ]
     },
     "execution_count": 23,
     "metadata": {},
     "output_type": "execute_result"
    }
   ],
   "source": [
    "string1 = 'Mr John Smith'\n",
    "string1[3:]"
   ]
  },
  {
   "cell_type": "code",
   "execution_count": 24,
   "metadata": {},
   "outputs": [
    {
     "name": "stdout",
     "output_type": "stream",
     "text": [
      "Mr%20John%20Smith\n"
     ]
    }
   ],
   "source": [
    "string1 = 'Mr John Smith'\n",
    "\n",
    "index = 0\n",
    "\n",
    "while(index < len(string1)):\n",
    "    if string1[index] == ' ':\n",
    "        string1 = string1[:index] + '%20' + string1[index+1:]\n",
    "        index += 2\n",
    "    index+=1\n",
    "\n",
    "print(string1)"
   ]
  },
  {
   "cell_type": "code",
   "execution_count": 27,
   "metadata": {},
   "outputs": [
    {
     "data": {
      "text/plain": [
       "'Mr%20John%20Smith'"
      ]
     },
     "execution_count": 27,
     "metadata": {},
     "output_type": "execute_result"
    }
   ],
   "source": [
    "string1 = 'Mr John Smith'\n",
    "\n",
    "'%20'.join(string1.split(' '))"
   ]
  },
  {
   "cell_type": "code",
   "execution_count": 29,
   "metadata": {},
   "outputs": [
    {
     "data": {
      "text/plain": [
       "'Mr%20John%20Smith'"
      ]
     },
     "execution_count": 29,
     "metadata": {},
     "output_type": "execute_result"
    }
   ],
   "source": [
    "string1 = 'Mr John Smith'\n",
    "\n",
    "string1.replace(' ', '%20')"
   ]
  },
  {
   "cell_type": "markdown",
   "metadata": {},
   "source": [
    "Linked List:\n",
    "\n",
    "- Chain of nodes\n",
    "- Each node has a value and a reference to the next node    \n",
    "- The last node has a reference to None\n",
    "\n",
    "Types:\n",
    "\n",
    "- Singly Linked List\n",
    "- Doubly Linked List\n",
    "- Circular Linked List"
   ]
  },
  {
   "cell_type": "code",
   "execution_count": 1,
   "metadata": {},
   "outputs": [],
   "source": [
    "# define the structure of a Node\n",
    "class Node:\n",
    "    # constructor: special method that invoked when we create an object to the class\n",
    "    def __init__(self, data):\n",
    "        # define the fields of the node\n",
    "        self.data = data\n",
    "        self.next = None"
   ]
  },
  {
   "cell_type": "code",
   "execution_count": 45,
   "metadata": {},
   "outputs": [],
   "source": [
    "class LinkedList:\n",
    "    def __init__(self):\n",
    "        self.head = None\n",
    "        self.tail = None\n",
    "    \n",
    "    def __str__(self):\n",
    "        # create an empty list\n",
    "        l = []\n",
    "\n",
    "        # copy the original head to a temporary head\n",
    "        thead = self.head\n",
    "\n",
    "        # traverse the linked list\n",
    "        while thead != None:\n",
    "            l.append(thead.data)\n",
    "            thead = thead.next\n",
    "        \n",
    "        return str(l)\n",
    "\n",
    "    def insertAtTail(self, data):\n",
    "        # create a new Node\n",
    "        newNode = Node(data)\n",
    "\n",
    "        # check if head and tail are none\n",
    "        if self.head == None and self.tail == None:\n",
    "            # list is empty\n",
    "            self.head = self.tail = newNode\n",
    "        else:\n",
    "            # list is not empty\n",
    "            self.tail.next = newNode\n",
    "            self.tail = self.tail.next\n",
    "\n",
    "    def insertAtHead(self, data):\n",
    "        # create a new node\n",
    "        newNode = Node(data)\n",
    "\n",
    "        # check if head and tail are none\n",
    "        if self.head == None and self.tail == None:\n",
    "            self.head = self.tail = newNode\n",
    "        else:\n",
    "            # list is not empty\n",
    "            newNode.next = self.head\n",
    "\n",
    "            self.head = newNode\n",
    "    \n",
    "    # returns the length of the linked list\n",
    "    def length(self):\n",
    "        # create an empty list\n",
    "        l = 0\n",
    "\n",
    "        # copy the original head to a temporary head\n",
    "        thead = self.head\n",
    "\n",
    "        # traverse the linked list\n",
    "        while thead != None:\n",
    "            l += 1\n",
    "            thead = thead.next\n",
    "        \n",
    "        return l\n",
    "\n",
    "    # find the middle node\n",
    "    def findMiddle(self):\n",
    "        pass\n",
    "\n",
    "    # delete the head node\n",
    "    def deleteAtHead(self):\n",
    "        pass\n",
    "\n",
    "    # delete the tail node\n",
    "    def deleteAtTail(self):\n",
    "        pass\n",
    "\n",
    "    # insert at any given pos\n",
    "    def insertAtPos(self, pos):\n",
    "        pass\n",
    "\n",
    "    # reverse the linked list\n",
    "    def reverse(self):\n",
    "        pass\n",
    "\n",
    "    # sort the linked list\n",
    "    def sort(self, reverse = False):\n",
    "        pass\n",
    "\n",
    "    # find the last node of the linked list\n",
    "    def findLast(self):\n",
    "        pass\n",
    "\n",
    "    # find the first node of the linked list\n",
    "    def findFirst(self):\n",
    "        pass\n",
    "\n",
    "    # search for a data in the linked list\n",
    "    def search(self, key):\n",
    "        pass\n"
   ]
  },
  {
   "cell_type": "code",
   "execution_count": null,
   "metadata": {},
   "outputs": [],
   "source": [
    "'''\n",
    "    list.head = None\n",
    "    list.tail = None\n",
    "\n",
    "    list.head = Node [10, [2, [3, [4, [5, [6, list.tail = [7, None]]]]]]]\n",
    "'''"
   ]
  },
  {
   "cell_type": "code",
   "execution_count": 43,
   "metadata": {},
   "outputs": [
    {
     "name": "stdout",
     "output_type": "stream",
     "text": [
      "[2, 3, 4, 5, 6, 7]\n",
      "6\n"
     ]
    }
   ],
   "source": [
    "list = LinkedList()\n",
    "\n",
    "list.insertAtTail(3)\n",
    "list.insertAtTail(4)\n",
    "list.insertAtTail(5)\n",
    "list.insertAtTail(6)\n",
    "list.insertAtTail(7)\n",
    "list.insertAtHead(2)\n",
    "\n",
    "print(list)\n",
    "print(list.length())"
   ]
  }
 ],
 "metadata": {
  "kernelspec": {
   "display_name": "Python 3",
   "language": "python",
   "name": "python3"
  },
  "language_info": {
   "codemirror_mode": {
    "name": "ipython",
    "version": 3
   },
   "file_extension": ".py",
   "mimetype": "text/x-python",
   "name": "python",
   "nbconvert_exporter": "python",
   "pygments_lexer": "ipython3",
   "version": "3.13.2"
  }
 },
 "nbformat": 4,
 "nbformat_minor": 2
}
