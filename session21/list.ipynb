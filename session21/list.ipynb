{
 "cells": [
  {
   "cell_type": "code",
   "execution_count": null,
   "metadata": {},
   "outputs": [],
   "source": [
    "# linked list\n",
    "'''\n",
    "    4   5    6   7   8   9   10\n",
    "    200 204 208 212 216 220 224\n",
    "\n",
    "    list\n",
    "    str\n",
    "    int\n",
    "    float\n",
    "\n",
    "    Node: [data, address]\n",
    "\n",
    "    linked list: chain of nodes\n",
    "\n",
    "    l = [4, 5, 6, 7]\n",
    "\n",
    "    list = Node(4, Node(5, Node(6, Node(7, None))))   \n",
    "'''"
   ]
  },
  {
   "cell_type": "markdown",
   "metadata": {},
   "source": [
    "# singly linked list implementation"
   ]
  },
  {
   "cell_type": "code",
   "execution_count": 3,
   "metadata": {},
   "outputs": [],
   "source": [
    "# create a Node data type\n",
    "class Node:\n",
    "    # create a constructor\n",
    "    def __init__(self, data):\n",
    "        self.data = data\n",
    "        self.next = None"
   ]
  },
  {
   "cell_type": "code",
   "execution_count": 38,
   "metadata": {},
   "outputs": [],
   "source": [
    "class LinkedList:\n",
    "    def __init__(self):\n",
    "        self.head = None\n",
    "    \n",
    "    def insertTail(self, data):\n",
    "        if self.head == None:\n",
    "            self.head = Node(data)\n",
    "        else:\n",
    "            thead = self.head\n",
    "\n",
    "            while thead.next != None:\n",
    "                thead = thead.next\n",
    "            \n",
    "            thead.next = Node(data)\n",
    "    \n",
    "    def __str__(self):\n",
    "        # create an empty list\n",
    "        nodes = []\n",
    "\n",
    "        # traverse the linked list and push each of the node's data into the list 'nodes'\n",
    "        thead = self.head\n",
    "        while thead!=None:\n",
    "            nodes.append(thead.data)\n",
    "            thead = thead.next\n",
    "\n",
    "        # return the string form of the nodes list\n",
    "        return str(nodes)\n",
    "\n",
    "    def insertHead(self, data):\n",
    "        # create a new node\n",
    "        newNode = Node(data)\n",
    "\n",
    "        # update newNode.next with list.head\n",
    "        newNode.next = self.head\n",
    "\n",
    "        # update list.head with the newNode's reference\n",
    "        self.head = newNode\n",
    "\n",
    "    def deleteHead(self):\n",
    "        if self.head != None:\n",
    "            self.head = self.head.next\n",
    "\n",
    "    def deleteTail(self):\n",
    "        if self.head == None:\n",
    "            return\n",
    "        elif self.head.next == None:\n",
    "            # we have only one node in the list\n",
    "            self.head = None\n",
    "        else:\n",
    "            thead = self.head\n",
    "\n",
    "            while thead.next.next != None:\n",
    "                thead = thead.next\n",
    "\n",
    "            thead.next = None\n",
    "\n",
    "    def length(self):\n",
    "        '''\n",
    "            returns an integer that represents the length or number of nodes\n",
    "            in the linked list\n",
    "\n",
    "            if the linked list is empty, it must return 0 else the number of nodes\n",
    "        '''\n",
    "        # create an empty list\n",
    "        nodes = 0\n",
    "\n",
    "        # traverse the linked list and push each of the node's data into the list 'nodes'\n",
    "        thead = self.head\n",
    "        while thead != None:\n",
    "            nodes += 1\n",
    "            thead = thead.next\n",
    "\n",
    "        # return the string form of the nodes list\n",
    "        return nodes\n",
    "\n",
    "    def middle(self):\n",
    "        pass"
   ]
  },
  {
   "cell_type": "code",
   "execution_count": 43,
   "metadata": {},
   "outputs": [
    {
     "name": "stdout",
     "output_type": "stream",
     "text": [
      "[5, 6, 7]\n"
     ]
    }
   ],
   "source": [
    "list = LinkedList()\n",
    "\n",
    "list.insertTail(4)\n",
    "list.insertTail(5)\n",
    "list.insertTail(6)\n",
    "list.insertTail(7)\n",
    "list.insertTail(10)\n",
    "list.insertHead(2)\n",
    "list.deleteHead()\n",
    "list.deleteHead()\n",
    "list.deleteTail()\n",
    "\n",
    "print(list)\n",
    "\n",
    "# print(list.length())"
   ]
  },
  {
   "cell_type": "code",
   "execution_count": null,
   "metadata": {},
   "outputs": [],
   "source": [
    "'''\n",
    "    list.head = 200\n",
    "\n",
    "    [2, 400]\n",
    "    200\n",
    "\n",
    "    [4, 500]\n",
    "    400\n",
    "    \n",
    "    [5, 600]\n",
    "    500     \n",
    "\n",
    "    [6, 700]\n",
    "    600\n",
    "\n",
    "    [7, 1000]\n",
    "    700\n",
    "\n",
    "    [10, None]\n",
    "    1000\n",
    "\n",
    "    thead = None\n",
    "    nodes = [2, 4, 5, 6, 7, 10]\n",
    "\n",
    "'''"
   ]
  },
  {
   "cell_type": "code",
   "execution_count": 48,
   "metadata": {},
   "outputs": [
    {
     "data": {
      "text/plain": [
       "'0b1011'"
      ]
     },
     "execution_count": 48,
     "metadata": {},
     "output_type": "execute_result"
    }
   ],
   "source": [
    "bin(11)"
   ]
  },
  {
   "cell_type": "code",
   "execution_count": 49,
   "metadata": {},
   "outputs": [
    {
     "data": {
      "text/plain": [
       "11"
      ]
     },
     "execution_count": 49,
     "metadata": {},
     "output_type": "execute_result"
    }
   ],
   "source": [
    "int('0b1011', base=0)"
   ]
  }
 ],
 "metadata": {
  "kernelspec": {
   "display_name": "3.9.7",
   "language": "python",
   "name": "python3"
  },
  "language_info": {
   "codemirror_mode": {
    "name": "ipython",
    "version": 3
   },
   "file_extension": ".py",
   "mimetype": "text/x-python",
   "name": "python",
   "nbconvert_exporter": "python",
   "pygments_lexer": "ipython3",
   "version": "3.9.7"
  }
 },
 "nbformat": 4,
 "nbformat_minor": 2
}
