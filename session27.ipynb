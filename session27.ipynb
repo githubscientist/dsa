{
 "cells": [
  {
   "cell_type": "code",
   "execution_count": 23,
   "metadata": {},
   "outputs": [],
   "source": [
    "class Node:\n",
    "    def __init__(self, data):\n",
    "        self.data = data\n",
    "        self.next = None"
   ]
  },
  {
   "cell_type": "code",
   "execution_count": 30,
   "metadata": {},
   "outputs": [],
   "source": [
    "class LinkedList:\n",
    "    def __init__(self):\n",
    "        self.head = None\n",
    "    \n",
    "    def insertHead(self, data):\n",
    "        newNode = Node(data)\n",
    "        newNode.next = self.head\n",
    "        self.head = newNode\n",
    "    \n",
    "    def insertTail(self, data):\n",
    "        newNode = Node(data)\n",
    "        if self.head is None:\n",
    "            self.head = newNode\n",
    "            return\n",
    "        last = self.head\n",
    "        while last.next:\n",
    "            last = last.next\n",
    "        last.next = newNode\n",
    "    \n",
    "    def deleteHead(self):\n",
    "        if self.head is None:\n",
    "            return\n",
    "        self.head = self.head.next\n",
    "    \n",
    "    def deleteTail(self):\n",
    "        if self.head is None:\n",
    "            return\n",
    "        if self.head.next is None:\n",
    "            self.head = None\n",
    "            return\n",
    "        secondLast = self.head\n",
    "        while secondLast.next.next:\n",
    "            secondLast = secondLast.next\n",
    "        secondLast.next = None\n",
    "    \n",
    "    def __str__(self) -> str:\n",
    "        result = []\n",
    "        temp = self.head\n",
    "        while temp:\n",
    "            result.append(temp.data)\n",
    "            temp = temp.next\n",
    "        return str(result)\n",
    "\n",
    "    def recur(self, head):\n",
    "        if head == None:\n",
    "            return\n",
    "        self.recur(head.next)\n",
    "        print(head.data)"
   ]
  },
  {
   "cell_type": "code",
   "execution_count": 31,
   "metadata": {},
   "outputs": [
    {
     "name": "stdout",
     "output_type": "stream",
     "text": [
      "[4, 3, 2, 1]\n"
     ]
    }
   ],
   "source": [
    "lista = LinkedList()\n",
    "lista.insertHead(1)\n",
    "lista.insertHead(2)\n",
    "lista.insertHead(3)\n",
    "lista.insertHead(4)\n",
    "print(lista)"
   ]
  },
  {
   "cell_type": "code",
   "execution_count": 32,
   "metadata": {},
   "outputs": [
    {
     "name": "stdout",
     "output_type": "stream",
     "text": [
      "1\n",
      "2\n",
      "3\n",
      "4\n"
     ]
    }
   ],
   "source": [
    "lista.recur(lista.head)"
   ]
  },
  {
   "cell_type": "code",
   "execution_count": 35,
   "metadata": {},
   "outputs": [
    {
     "data": {
      "text/plain": [
       "False"
      ]
     },
     "execution_count": 35,
     "metadata": {},
     "output_type": "execute_result"
    }
   ],
   "source": [
    "a = Node(3)\n",
    "b = Node(4)\n",
    "c = Node(5)\n",
    "d = Node(6)\n",
    "\n",
    "d in set([a, b, c])"
   ]
  },
  {
   "cell_type": "code",
   "execution_count": 46,
   "metadata": {},
   "outputs": [
    {
     "data": {
      "text/plain": [
       "<__main__.Node at 0x10777af70>"
      ]
     },
     "execution_count": 46,
     "metadata": {},
     "output_type": "execute_result"
    }
   ],
   "source": [
    "seta = set([a, b, c])\n",
    "setb = set([b, c, d])\n",
    "\n",
    "commonNodes = seta.intersection(setb)\n",
    "\n",
    "# for node in commonNodes:\n",
    "#     print(node.data)\n",
    "#     break\n",
    "\n",
    "list(commonNodes)[0]"
   ]
  },
  {
   "cell_type": "code",
   "execution_count": 47,
   "metadata": {},
   "outputs": [
    {
     "name": "stdout",
     "output_type": "stream",
     "text": [
      "{<__main__.Node object at 0x10777aaf0>: True}\n"
     ]
    }
   ],
   "source": [
    "# hashing\n",
    "d = {}\n",
    "\n",
    "d[a] = True\n",
    "\n",
    "print(d)"
   ]
  }
 ],
 "metadata": {
  "kernelspec": {
   "display_name": "Python 3",
   "language": "python",
   "name": "python3"
  },
  "language_info": {
   "codemirror_mode": {
    "name": "ipython",
    "version": 3
   },
   "file_extension": ".py",
   "mimetype": "text/x-python",
   "name": "python",
   "nbconvert_exporter": "python",
   "pygments_lexer": "ipython3",
   "version": "3.9.7"
  }
 },
 "nbformat": 4,
 "nbformat_minor": 2
}
