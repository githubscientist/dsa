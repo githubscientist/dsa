{
 "cells": [
  {
   "cell_type": "markdown",
   "metadata": {},
   "source": [
    "# Basics of Python\n",
    "\n",
    "## List of Topics\n",
    "\n",
    "- [Functions](#functions)\n",
    "- [Variables](#variables)\n",
    "- [Data Types](#data-types)\n",
    "- [Operators](#operators)\n",
    "- [Control Flow](#control-flow)\n",
    "- [Loops](#loops)\n",
    "- [Strings](#strings)\n",
    "- [Lists](#lists)\n",
    "- [Tuples](#tuples)\n",
    "- [Dictionaries](#dictionaries)\n",
    "- [Sets](#sets)\n",
    "- [Comprehensions](#comprehensions)\n",
    "- [User Defined Functions](#user-defined-functions)\n",
    "- [Lambda Functions](#lambda-functions)\n",
    "- [Map](#map)\n",
    "- [Filter](#filter)\n",
    "- [Reduce](#reduce)\n",
    "- [Modules](#modules)\n",
    "    - [Built-in Modules](#built-in-modules)\n",
    "        - [Math](#math)\n",
    "        - [Random](#random)\n",
    "        - [Datetime](#datetime)\n",
    "        - [OS](#os)\n",
    "        - [Sys](#sys)\n",
    "        - [RE](#re)\n",
    "- [Classes](#classes)"
   ]
  },
  {
   "cell_type": "markdown",
   "metadata": {},
   "source": [
    "### Functions"
   ]
  },
  {
   "cell_type": "markdown",
   "metadata": {},
   "source": [
    "Functions are blocks of code that will be executed whenever they are called. There are two types of functions in Python: built-in functions and user-defined functions."
   ]
  },
  {
   "cell_type": "code",
   "execution_count": 6,
   "metadata": {},
   "outputs": [
    {
     "name": "stdout",
     "output_type": "stream",
     "text": [
      "Hello World!\n"
     ]
    }
   ],
   "source": [
    "print(\"Hello World!\")"
   ]
  },
  {
   "cell_type": "code",
   "execution_count": 7,
   "metadata": {},
   "outputs": [
    {
     "name": "stdout",
     "output_type": "stream",
     "text": [
      "Help on built-in function print in module builtins:\n",
      "\n",
      "print(*args, sep=' ', end='\\n', file=None, flush=False)\n",
      "    Prints the values to a stream, or to sys.stdout by default.\n",
      "    \n",
      "    sep\n",
      "      string inserted between values, default a space.\n",
      "    end\n",
      "      string appended after the last value, default a newline.\n",
      "    file\n",
      "      a file-like object (stream); defaults to the current sys.stdout.\n",
      "    flush\n",
      "      whether to forcibly flush the stream.\n",
      "\n"
     ]
    }
   ],
   "source": [
    "help(print)"
   ]
  },
  {
   "cell_type": "markdown",
   "metadata": {},
   "source": [
    "\\n - Escape character or sequence or new line character"
   ]
  },
  {
   "cell_type": "code",
   "execution_count": 23,
   "metadata": {},
   "outputs": [
    {
     "name": "stdout",
     "output_type": "stream",
     "text": [
      "hi there how are you; hello world\n"
     ]
    }
   ],
   "source": [
    "print(\"hi\", \"there\", \"how\", \"are\", \"you\", sep=\" \", end=\"; \")\n",
    "print(\"hello world\")"
   ]
  },
  {
   "cell_type": "code",
   "execution_count": 3,
   "metadata": {},
   "outputs": [
    {
     "name": "stdout",
     "output_type": "stream",
     "text": [
      "Hello World\n",
      "Welcome\n"
     ]
    }
   ],
   "source": [
    "print(\"Hello World\")\n",
    "print(\"Welcome\")"
   ]
  },
  {
   "cell_type": "markdown",
   "metadata": {},
   "source": [
    "### Variables"
   ]
  },
  {
   "cell_type": "markdown",
   "metadata": {},
   "source": [
    "Variables are labels that point to a memory location that stores a value.\n",
    "\n",
    "Why labels?\n",
    "\n",
    "- Each byte of a memory has an address\n",
    "- the addresses will be in hexadecimal format\n",
    "- it is difficult to remember the addresses\n",
    "- so, we use labels to point to the addresses"
   ]
  },
  {
   "cell_type": "code",
   "execution_count": 7,
   "metadata": {},
   "outputs": [],
   "source": [
    "age = 20"
   ]
  },
  {
   "cell_type": "code",
   "execution_count": 10,
   "metadata": {},
   "outputs": [
    {
     "name": "stdout",
     "output_type": "stream",
     "text": [
      "20 <class 'int'>\n"
     ]
    }
   ],
   "source": [
    "print(age, type(age))"
   ]
  },
  {
   "cell_type": "code",
   "execution_count": 12,
   "metadata": {},
   "outputs": [],
   "source": [
    "age = \"twenty\""
   ]
  },
  {
   "cell_type": "code",
   "execution_count": 13,
   "metadata": {},
   "outputs": [
    {
     "name": "stdout",
     "output_type": "stream",
     "text": [
      "twenty <class 'str'>\n"
     ]
    }
   ],
   "source": [
    "print(age, type(age))"
   ]
  },
  {
   "cell_type": "markdown",
   "metadata": {},
   "source": [
    "- How the codes are compiled and executed?"
   ]
  },
  {
   "cell_type": "markdown",
   "metadata": {},
   "source": [
    "### Data Types"
   ]
  },
  {
   "cell_type": "markdown",
   "metadata": {},
   "source": [
    "Datatypes tells us what type of data a variable is storing."
   ]
  },
  {
   "cell_type": "markdown",
   "metadata": {},
   "source": [
    "What are the different data types in python?\n",
    "\n",
    "- int (integer) - 1, 2, 3, 4, 5, 6, 7, 8, 9, 10\n",
    "- float (floating point) - 3.45, 6.78, 9.01\n",
    "- str (string) - \"hello\", \"world\", \"python\"\n",
    "- bool (boolean) - True, False (two types of boolean values)\n",
    "- NoneType (None) - None (only one value)\n",
    "- list - [1, 2, 3, 4, 5]\n",
    "- tuple - (1, 2, 3, 4, 5) (read only list) (immutable meaning unchangeable or cannot be changed once created & assigned)\n",
    "- dict (dictionary) - {\"name\": \"python\", \"version\": 3.8}\n",
    "- set - set{1, 2, 3, 4, 5} (unique values) - mathematical set operations"
   ]
  },
  {
   "cell_type": "code",
   "execution_count": 14,
   "metadata": {},
   "outputs": [
    {
     "name": "stdout",
     "output_type": "stream",
     "text": [
      "0.05 <class 'float'>\n"
     ]
    }
   ],
   "source": [
    "percentage = 0.05\n",
    "print(percentage, type(percentage))"
   ]
  },
  {
   "cell_type": "markdown",
   "metadata": {},
   "source": [
    "Strings - Sequence of characters. For example: \"Hello World\", \"Apple\", \"1234\", \"Apple@123\""
   ]
  },
  {
   "cell_type": "code",
   "execution_count": 16,
   "metadata": {},
   "outputs": [
    {
     "name": "stdout",
     "output_type": "stream",
     "text": [
      "I am a string <class 'str'>\n"
     ]
    }
   ],
   "source": [
    "sentence = \"I am a string\"\n",
    "print(sentence, type(sentence))"
   ]
  },
  {
   "cell_type": "code",
   "execution_count": 15,
   "metadata": {},
   "outputs": [
    {
     "name": "stdout",
     "output_type": "stream",
     "text": [
      "apple <class 'str'>\n"
     ]
    }
   ],
   "source": [
    "name = 'apple'\n",
    "print(name, type(name))"
   ]
  },
  {
   "cell_type": "code",
   "execution_count": 20,
   "metadata": {},
   "outputs": [
    {
     "name": "stdout",
     "output_type": "stream",
     "text": [
      "This is a multi-line string\n",
      "\n",
      "\tThis is the second line\n",
      "this is the third line\n",
      " <class 'str'>\n"
     ]
    }
   ],
   "source": [
    "message = \"\"\"This is a multi-line string\n",
    "\\n\\tThis is the second line\n",
    "this is the third line\n",
    "\"\"\"\n",
    "print(message, type(message))"
   ]
  },
  {
   "cell_type": "code",
   "execution_count": 22,
   "metadata": {},
   "outputs": [
    {
     "name": "stdout",
     "output_type": "stream",
     "text": [
      "This is a multi-line strin\n"
     ]
    }
   ],
   "source": [
    "message='''This is a multi-line string\\b'''\n",
    "print(message)"
   ]
  },
  {
   "cell_type": "markdown",
   "metadata": {},
   "source": [
    "Escape Sequences or Escape Characters\n",
    "\n",
    "- \\n - new line\n",
    "- \\t - tab\n",
    "- \\b - backspace\n",
    "- \\r - carriage return (moves the cursor to the beginning of the line)\n",
    "- \\f - form feed (moves the cursor to the next line)\n",
    "- \\v - vertical tab\n",
    "- \\a - alert (bell)\n",
    "- \\0 - null character"
   ]
  },
  {
   "cell_type": "code",
   "execution_count": 25,
   "metadata": {},
   "outputs": [],
   "source": [
    "isValid = False"
   ]
  },
  {
   "cell_type": "code",
   "execution_count": 26,
   "metadata": {},
   "outputs": [
    {
     "name": "stdout",
     "output_type": "stream",
     "text": [
      "False <class 'bool'>\n"
     ]
    }
   ],
   "source": [
    "print(isValid, type(isValid))"
   ]
  },
  {
   "cell_type": "code",
   "execution_count": 29,
   "metadata": {},
   "outputs": [],
   "source": [
    "name = None"
   ]
  },
  {
   "cell_type": "code",
   "execution_count": 30,
   "metadata": {},
   "outputs": [
    {
     "name": "stdout",
     "output_type": "stream",
     "text": [
      "None <class 'NoneType'>\n"
     ]
    }
   ],
   "source": [
    "print(name, type(name))"
   ]
  },
  {
   "cell_type": "markdown",
   "metadata": {},
   "source": [
    "lists in python can store different types of data unlike arrays in other programming languages like C, C++, Java, etc where are arrays can store only one type of data."
   ]
  },
  {
   "cell_type": "code",
   "execution_count": 32,
   "metadata": {},
   "outputs": [],
   "source": [
    "# id, firstname, lastname, age, salary, isMarried, isWorking, creditScore, transactions\n",
    "person101 = [101, \"John\", \"Doe\", 24, 10000, True, False, 735.5, [100, 200, 300]]"
   ]
  },
  {
   "cell_type": "code",
   "execution_count": 33,
   "metadata": {},
   "outputs": [
    {
     "name": "stdout",
     "output_type": "stream",
     "text": [
      "[101, 'John', 'Doe', 24, 10000, True, False, 735.5, [100, 200, 300]] <class 'list'>\n"
     ]
    }
   ],
   "source": [
    "print(person101, type(person101))"
   ]
  },
  {
   "cell_type": "code",
   "execution_count": 34,
   "metadata": {},
   "outputs": [],
   "source": [
    "person102 = (102, \"Jane\", \"Doe\", 24, 10000, True, False, 735.5, [100, 200, 300])"
   ]
  },
  {
   "cell_type": "code",
   "execution_count": 35,
   "metadata": {},
   "outputs": [
    {
     "name": "stdout",
     "output_type": "stream",
     "text": [
      "(102, 'Jane', 'Doe', 24, 10000, True, False, 735.5, [100, 200, 300]) <class 'tuple'>\n"
     ]
    }
   ],
   "source": [
    "print(person102, type(person102))"
   ]
  },
  {
   "cell_type": "code",
   "execution_count": 36,
   "metadata": {},
   "outputs": [],
   "source": [
    "d = {\"name\": \"python\", \"version\": 3.8}"
   ]
  },
  {
   "cell_type": "code",
   "execution_count": 37,
   "metadata": {},
   "outputs": [
    {
     "name": "stdout",
     "output_type": "stream",
     "text": [
      "{'name': 'python', 'version': 3.8} <class 'dict'>\n"
     ]
    }
   ],
   "source": [
    "print(d, type(d))"
   ]
  },
  {
   "cell_type": "code",
   "execution_count": 38,
   "metadata": {},
   "outputs": [],
   "source": [
    "person101 = {\"id\": 101, \"firstname\": \"John\", \"lastname\": \"Doe\", \"age\": 24, \"salary\": 10000, \"isMarried\": True, \"isWorking\": False, \"creditScore\": 735.5, \"transactions\": [100, 200, 300]}"
   ]
  },
  {
   "cell_type": "code",
   "execution_count": 39,
   "metadata": {},
   "outputs": [
    {
     "name": "stdout",
     "output_type": "stream",
     "text": [
      "{'id': 101, 'firstname': 'John', 'lastname': 'Doe', 'age': 24, 'salary': 10000, 'isMarried': True, 'isWorking': False, 'creditScore': 735.5, 'transactions': [100, 200, 300]}\n"
     ]
    }
   ],
   "source": [
    "print(person101)"
   ]
  },
  {
   "cell_type": "code",
   "execution_count": 40,
   "metadata": {},
   "outputs": [
    {
     "data": {
      "text/plain": [
       "[100, 200, 300]"
      ]
     },
     "execution_count": 40,
     "metadata": {},
     "output_type": "execute_result"
    }
   ],
   "source": [
    "person101[\"transactions\"]"
   ]
  },
  {
   "cell_type": "code",
   "execution_count": 41,
   "metadata": {},
   "outputs": [
    {
     "data": {
      "text/plain": [
       "{1, 2, 3, 4}"
      ]
     },
     "execution_count": 41,
     "metadata": {},
     "output_type": "execute_result"
    }
   ],
   "source": [
    "a = set([1, 2, 3])\n",
    "b = set([2, 3, 4])\n",
    "\n",
    "a.union(b)"
   ]
  },
  {
   "cell_type": "markdown",
   "metadata": {},
   "source": [
    "Variables and DataTypes Exercises:\n",
    "\n",
    "1. Create a variable called `name` and assign it a value of \"John\"\n",
    "2. Create a variable called `age` and assign it a value of 20\n",
    "3. Create a variable called `isNew` and assign it a value of True\n",
    "4. Create a list called `names` and add 5 names to it\n",
    "5. Let's say we have to store the details of a particular user who logs into github. Think of list of values you want to store for that user and create a list with those values as a dictionary.\n",
    "6. Create a set called `numbers` and add 5 numbers to it.\n"
   ]
  },
  {
   "cell_type": "code",
   "execution_count": 42,
   "metadata": {},
   "outputs": [
    {
     "name": "stdout",
     "output_type": "stream",
     "text": [
      "John\n"
     ]
    }
   ],
   "source": [
    "# Exercise 1: Create a variable called name and assign it the value \"John\"\n",
    "name = \"John\"\n",
    "print(name)"
   ]
  },
  {
   "cell_type": "code",
   "execution_count": 44,
   "metadata": {},
   "outputs": [
    {
     "name": "stdout",
     "output_type": "stream",
     "text": [
      "20\n"
     ]
    }
   ],
   "source": [
    "age = 20\n",
    "print(age)"
   ]
  },
  {
   "cell_type": "code",
   "execution_count": 45,
   "metadata": {},
   "outputs": [
    {
     "name": "stdout",
     "output_type": "stream",
     "text": [
      "True\n"
     ]
    }
   ],
   "source": [
    "isNew = True\n",
    "print(isNew)"
   ]
  },
  {
   "cell_type": "code",
   "execution_count": 46,
   "metadata": {},
   "outputs": [
    {
     "name": "stdout",
     "output_type": "stream",
     "text": [
      "['Inbarasan', 'Santhosh', 'Mohan', 'Mohanalakshmi', 'Sankari']\n"
     ]
    }
   ],
   "source": [
    "names = [\"Inbarasan\", \"Santhosh\", \"Mohan\", \"Mohanalakshmi\", \"Sankari\"]\n",
    "print(names)"
   ]
  },
  {
   "cell_type": "code",
   "execution_count": null,
   "metadata": {},
   "outputs": [],
   "source": [
    "githubUser = {\n",
    "    'username': 'githubscientist',\n",
    "    'email': 'sathish.datascientist@gmail.com',\n",
    "    'settings': {\n",
    "        'publicProfile': {\n",
    "            'name': 'Sathish',\n",
    "            'publicEmail': 'sathish.datascientist@gmail.com',\n",
    "            'bio': 'Data Scientist',\n",
    "            'socialAccounts': ['https://linkedin.com/in/mailtosathish', 'https://twitter.com/sathish_twit']\n",
    "        },\n",
    "        'accountIsActive': True\n",
    "    },\n",
    "    'repositories': ['dsa', 'python', 'hello-world']\n",
    "}"
   ]
  },
  {
   "cell_type": "code",
   "execution_count": 47,
   "metadata": {},
   "outputs": [
    {
     "name": "stdout",
     "output_type": "stream",
     "text": [
      "{1, 2, 3, 4, 5} <class 'set'>\n"
     ]
    }
   ],
   "source": [
    "# Create a set called `numbers` and add 5 numbers to it.\n",
    "numbers = set([1, 2, 3, 4, 5])\n",
    "print(numbers, type(numbers))"
   ]
  },
  {
   "cell_type": "code",
   "execution_count": 48,
   "metadata": {},
   "outputs": [
    {
     "name": "stdout",
     "output_type": "stream",
     "text": [
      "{1, 2, 3, 4, 5} <class 'set'>\n"
     ]
    }
   ],
   "source": [
    "numbers = {1, 2, 3, 4, 5}\n",
    "print(numbers, type(numbers))"
   ]
  },
  {
   "cell_type": "markdown",
   "metadata": {},
   "source": [
    "comment lines"
   ]
  },
  {
   "cell_type": "code",
   "execution_count": null,
   "metadata": {},
   "outputs": [],
   "source": [
    "# the following code creates a variable name and assigns it the value \"John\"\n",
    "name = \"John\""
   ]
  },
  {
   "cell_type": "code",
   "execution_count": null,
   "metadata": {},
   "outputs": [],
   "source": [
    "# single line comment"
   ]
  },
  {
   "cell_type": "code",
   "execution_count": null,
   "metadata": {},
   "outputs": [],
   "source": [
    "'''\n",
    "This is a multi-line comment\n",
    "'''"
   ]
  },
  {
   "cell_type": "code",
   "execution_count": null,
   "metadata": {},
   "outputs": [],
   "source": [
    "\"\"\"\n",
    "This is a multi-line comment\n",
    "\"\"\""
   ]
  },
  {
   "cell_type": "markdown",
   "metadata": {},
   "source": [
    "### Operators"
   ]
  },
  {
   "cell_type": "markdown",
   "metadata": {},
   "source": [
    "Operator - A symbol that performs an operation on one or more operands.\n",
    "\n",
    "Example:\n",
    "\n",
    "5 + 6 -> expression\n",
    "\n",
    "5, 6 -> operands\n",
    "+ -> operator\n",
    "\n",
    "Types of Operators:\n",
    "\n",
    "- Arithmetic Operators\n",
    "- Comparison Operators (Relational Operators)\n",
    "- Logical Operators\n",
    "- Bitwise Operators\n",
    "- Assignment Operators\n",
    "\n",
    "Arithmetic Operators:\n",
    "\n",
    "+ addition\n",
    "- subtraction\n",
    "* multiplication\n",
    "/ division\n",
    "% modulus (remainder)\n",
    "** exponentiation (power)\n",
    "// floor division (quotient)"
   ]
  },
  {
   "cell_type": "code",
   "execution_count": 49,
   "metadata": {},
   "outputs": [
    {
     "data": {
      "text/plain": [
       "11"
      ]
     },
     "execution_count": 49,
     "metadata": {},
     "output_type": "execute_result"
    }
   ],
   "source": [
    "5 + 6"
   ]
  },
  {
   "cell_type": "code",
   "execution_count": 51,
   "metadata": {},
   "outputs": [
    {
     "data": {
      "text/plain": [
       "-1"
      ]
     },
     "execution_count": 51,
     "metadata": {},
     "output_type": "execute_result"
    }
   ],
   "source": [
    "5 - 6"
   ]
  },
  {
   "cell_type": "code",
   "execution_count": 52,
   "metadata": {},
   "outputs": [
    {
     "data": {
      "text/plain": [
       "30"
      ]
     },
     "execution_count": 52,
     "metadata": {},
     "output_type": "execute_result"
    }
   ],
   "source": [
    "5 * 6"
   ]
  },
  {
   "cell_type": "code",
   "execution_count": 53,
   "metadata": {},
   "outputs": [
    {
     "data": {
      "text/plain": [
       "0.8333333333333334"
      ]
     },
     "execution_count": 53,
     "metadata": {},
     "output_type": "execute_result"
    }
   ],
   "source": [
    "5 / 6"
   ]
  },
  {
   "cell_type": "code",
   "execution_count": 54,
   "metadata": {},
   "outputs": [
    {
     "data": {
      "text/plain": [
       "5"
      ]
     },
     "execution_count": 54,
     "metadata": {},
     "output_type": "execute_result"
    }
   ],
   "source": [
    "# floor division or gives the reminder\n",
    "5 % 6"
   ]
  },
  {
   "cell_type": "code",
   "execution_count": 55,
   "metadata": {},
   "outputs": [
    {
     "data": {
      "text/plain": [
       "125"
      ]
     },
     "execution_count": 55,
     "metadata": {},
     "output_type": "execute_result"
    }
   ],
   "source": [
    "5 ** 3"
   ]
  },
  {
   "cell_type": "code",
   "execution_count": 56,
   "metadata": {},
   "outputs": [
    {
     "data": {
      "text/plain": [
       "25"
      ]
     },
     "execution_count": 56,
     "metadata": {},
     "output_type": "execute_result"
    }
   ],
   "source": [
    "5 ** 2"
   ]
  },
  {
   "cell_type": "code",
   "execution_count": 57,
   "metadata": {},
   "outputs": [
    {
     "data": {
      "text/plain": [
       "10.0"
      ]
     },
     "execution_count": 57,
     "metadata": {},
     "output_type": "execute_result"
    }
   ],
   "source": [
    "100 ** (1/2)"
   ]
  },
  {
   "cell_type": "code",
   "execution_count": 58,
   "metadata": {},
   "outputs": [
    {
     "data": {
      "text/plain": [
       "10.0"
      ]
     },
     "execution_count": 58,
     "metadata": {},
     "output_type": "execute_result"
    }
   ],
   "source": [
    "100 ** 0.5"
   ]
  },
  {
   "cell_type": "code",
   "execution_count": 59,
   "metadata": {},
   "outputs": [
    {
     "data": {
      "text/plain": [
       "0.8333333333333334"
      ]
     },
     "execution_count": 59,
     "metadata": {},
     "output_type": "execute_result"
    }
   ],
   "source": [
    "5/6"
   ]
  },
  {
   "cell_type": "code",
   "execution_count": 60,
   "metadata": {},
   "outputs": [
    {
     "data": {
      "text/plain": [
       "1.6666666666666667"
      ]
     },
     "execution_count": 60,
     "metadata": {},
     "output_type": "execute_result"
    }
   ],
   "source": [
    "5/3"
   ]
  },
  {
   "cell_type": "code",
   "execution_count": 61,
   "metadata": {},
   "outputs": [
    {
     "data": {
      "text/plain": [
       "1"
      ]
     },
     "execution_count": 61,
     "metadata": {},
     "output_type": "execute_result"
    }
   ],
   "source": [
    "5//3"
   ]
  },
  {
   "cell_type": "markdown",
   "metadata": {},
   "source": [
    "Relational Operators:\n",
    "\n",
    "== equal to\n",
    "!= not equal to\n",
    "> greater than\n",
    "< less than\n",
    ">= greater than or equal to\n",
    "<= less than or equal to\n",
    "\n",
    "The result of an expression that involves relational operators is a boolean value."
   ]
  },
  {
   "cell_type": "code",
   "execution_count": 62,
   "metadata": {},
   "outputs": [
    {
     "data": {
      "text/plain": [
       "False"
      ]
     },
     "execution_count": 62,
     "metadata": {},
     "output_type": "execute_result"
    }
   ],
   "source": [
    "5 == 6"
   ]
  },
  {
   "cell_type": "code",
   "execution_count": 63,
   "metadata": {},
   "outputs": [
    {
     "data": {
      "text/plain": [
       "True"
      ]
     },
     "execution_count": 63,
     "metadata": {},
     "output_type": "execute_result"
    }
   ],
   "source": [
    "5 != 6"
   ]
  },
  {
   "cell_type": "code",
   "execution_count": 64,
   "metadata": {},
   "outputs": [
    {
     "data": {
      "text/plain": [
       "True"
      ]
     },
     "execution_count": 64,
     "metadata": {},
     "output_type": "execute_result"
    }
   ],
   "source": [
    "5 < 6"
   ]
  },
  {
   "cell_type": "code",
   "execution_count": 65,
   "metadata": {},
   "outputs": [
    {
     "data": {
      "text/plain": [
       "False"
      ]
     },
     "execution_count": 65,
     "metadata": {},
     "output_type": "execute_result"
    }
   ],
   "source": [
    "5 > 6"
   ]
  },
  {
   "cell_type": "code",
   "execution_count": 66,
   "metadata": {},
   "outputs": [
    {
     "data": {
      "text/plain": [
       "True"
      ]
     },
     "execution_count": 66,
     "metadata": {},
     "output_type": "execute_result"
    }
   ],
   "source": [
    "5 <= 6 # less than or equal to"
   ]
  },
  {
   "cell_type": "code",
   "execution_count": 67,
   "metadata": {},
   "outputs": [
    {
     "data": {
      "text/plain": [
       "True"
      ]
     },
     "execution_count": 67,
     "metadata": {},
     "output_type": "execute_result"
    }
   ],
   "source": [
    "5 <= 5"
   ]
  },
  {
   "cell_type": "code",
   "execution_count": 68,
   "metadata": {},
   "outputs": [
    {
     "data": {
      "text/plain": [
       "False"
      ]
     },
     "execution_count": 68,
     "metadata": {},
     "output_type": "execute_result"
    }
   ],
   "source": [
    "5 < 5"
   ]
  },
  {
   "cell_type": "code",
   "execution_count": 69,
   "metadata": {},
   "outputs": [
    {
     "data": {
      "text/plain": [
       "True"
      ]
     },
     "execution_count": 69,
     "metadata": {},
     "output_type": "execute_result"
    }
   ],
   "source": [
    "5 == 5"
   ]
  },
  {
   "cell_type": "code",
   "execution_count": 70,
   "metadata": {},
   "outputs": [
    {
     "data": {
      "text/plain": [
       "True"
      ]
     },
     "execution_count": 70,
     "metadata": {},
     "output_type": "execute_result"
    }
   ],
   "source": [
    "5 >= 5"
   ]
  },
  {
   "cell_type": "code",
   "execution_count": 72,
   "metadata": {},
   "outputs": [],
   "source": [
    "age = 17\n",
    "hasAadhar = True\n",
    "hasVoterID = False"
   ]
  },
  {
   "cell_type": "markdown",
   "metadata": {},
   "source": [
    "Eligibility Criteria:\n",
    "\n",
    "- age should be greater than or equal to 18\n",
    "- should have a valid ID proof\n",
    "    - either aadhar card or voter id card"
   ]
  },
  {
   "cell_type": "code",
   "execution_count": 73,
   "metadata": {},
   "outputs": [
    {
     "data": {
      "text/plain": [
       "False"
      ]
     },
     "execution_count": 73,
     "metadata": {},
     "output_type": "execute_result"
    }
   ],
   "source": [
    "age >= 18"
   ]
  },
  {
   "cell_type": "markdown",
   "metadata": {},
   "source": [
    "Logical Operators: they are helpful in combining multiple conditions or expressions.\n",
    "\n",
    "and\n",
    "or\n",
    "not"
   ]
  },
  {
   "cell_type": "code",
   "execution_count": 75,
   "metadata": {},
   "outputs": [
    {
     "data": {
      "text/plain": [
       "True"
      ]
     },
     "execution_count": 75,
     "metadata": {},
     "output_type": "execute_result"
    }
   ],
   "source": [
    "age = 18\n",
    "hasAadhar = True\n",
    "hasVoterID = False\n",
    "\n",
    "age >=18 and hasAadhar == True"
   ]
  },
  {
   "cell_type": "markdown",
   "metadata": {},
   "source": [
    "logical 'and' table: only true if both the conditions are true otherwise false\n",
    "\n",
    "|condition1 | condition2 | result = condition1 and condition2 |\n",
    "|-----------|------------|------------------------------------|\n",
    "|True       | True       | True                               |\n",
    "|True       | False      | False                              |\n",
    "|False      | True       | False                              |\n",
    "|False      | False      | False                              |\n"
   ]
  },
  {
   "cell_type": "markdown",
   "metadata": {},
   "source": [
    "logical 'or' table: true if any one of the conditions is true otherwise false\n",
    "\n",
    "|condition1 | condition2 | result = condition1 or condition2 |\n",
    "|-----------|------------|----------------------------------|\n",
    "|True       | True       | True                             |\n",
    "|True       | False      | True                             |\n",
    "|False      | True       | True                             |\n",
    "|False      | False      | False                            |"
   ]
  },
  {
   "cell_type": "code",
   "execution_count": 77,
   "metadata": {},
   "outputs": [
    {
     "data": {
      "text/plain": [
       "False"
      ]
     },
     "execution_count": 77,
     "metadata": {},
     "output_type": "execute_result"
    }
   ],
   "source": [
    "age = 18\n",
    "hasAadhar = False\n",
    "hasVoterID = True\n",
    "\n",
    "age >= 18 and hasAadhar == True"
   ]
  },
  {
   "cell_type": "code",
   "execution_count": 78,
   "metadata": {},
   "outputs": [
    {
     "data": {
      "text/plain": [
       "True"
      ]
     },
     "execution_count": 78,
     "metadata": {},
     "output_type": "execute_result"
    }
   ],
   "source": [
    "age = 18\n",
    "hasAadhar = False\n",
    "hasVoterID = True\n",
    "\n",
    "(age >= 18) and ((hasAadhar == True) or (hasVoterID == True))"
   ]
  },
  {
   "cell_type": "code",
   "execution_count": 82,
   "metadata": {},
   "outputs": [
    {
     "data": {
      "text/plain": [
       "True"
      ]
     },
     "execution_count": 82,
     "metadata": {},
     "output_type": "execute_result"
    }
   ],
   "source": [
    "not (6 > 6)"
   ]
  },
  {
   "cell_type": "markdown",
   "metadata": {},
   "source": []
  },
  {
   "cell_type": "markdown",
   "metadata": {},
   "source": [
    "Operator Precedence:"
   ]
  }
 ],
 "metadata": {
  "kernelspec": {
   "display_name": "Python 3",
   "language": "python",
   "name": "python3"
  },
  "language_info": {
   "codemirror_mode": {
    "name": "ipython",
    "version": 3
   },
   "file_extension": ".py",
   "mimetype": "text/x-python",
   "name": "python",
   "nbconvert_exporter": "python",
   "pygments_lexer": "ipython3",
   "version": "3.11.4"
  }
 },
 "nbformat": 4,
 "nbformat_minor": 2
}
