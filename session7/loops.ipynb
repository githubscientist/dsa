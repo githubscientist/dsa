{
 "cells": [
  {
   "cell_type": "markdown",
   "metadata": {},
   "source": [
    "### Looping Statements\n",
    "\n",
    "1. for loop\n",
    "2. while loop\n",
    "3. for...else loop\n",
    "4. while...else loop\n",
    "5. nested loop"
   ]
  },
  {
   "cell_type": "markdown",
   "metadata": {},
   "source": [
    "Problem: To print the message 'hello world' 3 times"
   ]
  },
  {
   "cell_type": "code",
   "execution_count": 2,
   "metadata": {},
   "outputs": [
    {
     "name": "stdout",
     "output_type": "stream",
     "text": [
      "hello\n",
      "hello\n",
      "hello\n"
     ]
    }
   ],
   "source": [
    "print('hello')\n",
    "print('hello')\n",
    "print('hello')"
   ]
  },
  {
   "cell_type": "code",
   "execution_count": 4,
   "metadata": {},
   "outputs": [
    {
     "name": "stdout",
     "output_type": "stream",
     "text": [
      "hello\n",
      "hello\n",
      "hello\n"
     ]
    }
   ],
   "source": [
    "i = 1\n",
    "while i<4:\n",
    "    print('hello')\n",
    "    i += 1"
   ]
  },
  {
   "cell_type": "markdown",
   "metadata": {},
   "source": [
    "Problem: Write a loop to print the natural numbers from 1 to 10."
   ]
  },
  {
   "cell_type": "code",
   "execution_count": 7,
   "metadata": {},
   "outputs": [
    {
     "name": "stdout",
     "output_type": "stream",
     "text": [
      "1\n",
      "2\n",
      "3\n",
      "4\n",
      "5\n",
      "6\n",
      "7\n",
      "8\n",
      "9\n",
      "10\n"
     ]
    }
   ],
   "source": [
    "number = 1\n",
    "\n",
    "while number <= 10:\n",
    "    print(number)\n",
    "    number += 1"
   ]
  },
  {
   "cell_type": "code",
   "execution_count": 9,
   "metadata": {},
   "outputs": [
    {
     "name": "stdout",
     "output_type": "stream",
     "text": [
      "1\n",
      "2\n",
      "3\n",
      "4\n",
      "5\n",
      "6\n",
      "7\n",
      "8\n",
      "9\n",
      "10\n"
     ]
    }
   ],
   "source": [
    "i = 0\n",
    "while (i <= 9):\n",
    "  i += 1\n",
    "  print(i)"
   ]
  },
  {
   "cell_type": "code",
   "execution_count": 10,
   "metadata": {},
   "outputs": [
    {
     "name": "stdout",
     "output_type": "stream",
     "text": [
      "1\n",
      "2\n",
      "3\n",
      "4\n",
      "5\n",
      "6\n",
      "7\n",
      "8\n",
      "9\n",
      "10\n"
     ]
    }
   ],
   "source": [
    "for i in range(1, 11):\n",
    "    print(i)"
   ]
  },
  {
   "cell_type": "code",
   "execution_count": 12,
   "metadata": {},
   "outputs": [
    {
     "data": {
      "text/plain": [
       "[1, 2, 3, 4, 5, 6, 7, 8, 9, 10]"
      ]
     },
     "execution_count": 12,
     "metadata": {},
     "output_type": "execute_result"
    }
   ],
   "source": [
    "list(range(1, 11))"
   ]
  },
  {
   "cell_type": "code",
   "execution_count": 14,
   "metadata": {},
   "outputs": [
    {
     "name": "stdout",
     "output_type": "stream",
     "text": [
      "1\n",
      "2\n",
      "3\n",
      "4\n",
      "5\n"
     ]
    }
   ],
   "source": [
    "for i in range(1, 11):\n",
    "    print(i)\n",
    "    if i == 5:\n",
    "        break\n",
    "else:\n",
    "    print('print this after the loop is done')"
   ]
  },
  {
   "cell_type": "code",
   "execution_count": 18,
   "metadata": {},
   "outputs": [
    {
     "name": "stdout",
     "output_type": "stream",
     "text": [
      "1\n",
      "2\n",
      "3\n",
      "4\n",
      "5\n"
     ]
    }
   ],
   "source": [
    "i = 1\n",
    "while (i <= 10):\n",
    "  print(i)\n",
    "  if i == 5:\n",
    "     break # exit the loop\n",
    "  i += 1\n",
    "else:\n",
    "    print('print this after the loop is done')"
   ]
  },
  {
   "cell_type": "markdown",
   "metadata": {},
   "source": [
    "#### Nested Loops"
   ]
  },
  {
   "cell_type": "code",
   "execution_count": 25,
   "metadata": {},
   "outputs": [
    {
     "name": "stdout",
     "output_type": "stream",
     "text": [
      "i = 1\n",
      "j = 1\n",
      "j = 2\n",
      "j = 3\n",
      "j = 4\n",
      "\n",
      "i = 2\n",
      "j = 1\n",
      "j = 2\n",
      "j = 3\n",
      "j = 4\n",
      "\n",
      "i = 3\n",
      "j = 1\n",
      "j = 2\n",
      "j = 3\n",
      "j = 4\n",
      "\n"
     ]
    }
   ],
   "source": [
    "for i in range(1, 4):\n",
    "    print(f'i = {i}')\n",
    "    for j in range(1, 5):\n",
    "        print(f'j = {j}')\n",
    "    print()"
   ]
  },
  {
   "cell_type": "markdown",
   "metadata": {},
   "source": [
    "N = 5\n",
    "\n",
    "Output:\n",
    "\n",
    "1\n",
    "1 2\n",
    "1 2 3\n",
    "1 2 3 4\n",
    "1 2 3 4 5"
   ]
  },
  {
   "cell_type": "code",
   "execution_count": 28,
   "metadata": {},
   "outputs": [
    {
     "name": "stdout",
     "output_type": "stream",
     "text": [
      "Help on built-in function print in module builtins:\n",
      "\n",
      "print(*args, sep=' ', end='\\n', file=None, flush=False)\n",
      "    Prints the values to a stream, or to sys.stdout by default.\n",
      "    \n",
      "    sep\n",
      "      string inserted between values, default a space.\n",
      "    end\n",
      "      string appended after the last value, default a newline.\n",
      "    file\n",
      "      a file-like object (stream); defaults to the current sys.stdout.\n",
      "    flush\n",
      "      whether to forcibly flush the stream.\n",
      "\n"
     ]
    }
   ],
   "source": [
    "help(print)"
   ]
  },
  {
   "cell_type": "code",
   "execution_count": 31,
   "metadata": {},
   "outputs": [
    {
     "name": "stdout",
     "output_type": "stream",
     "text": [
      "1 \n",
      "1 2 \n",
      "1 2 3 \n",
      "1 2 3 4 \n",
      "1 2 3 4 5 \n"
     ]
    }
   ],
   "source": [
    "for a in range(1, 6):\n",
    "    for i in range(1, 6):\n",
    "        if (i <= a):\n",
    "            print(i, end=' ')\n",
    "    print(end='\\n')"
   ]
  },
  {
   "cell_type": "markdown",
   "metadata": {},
   "source": [
    "Homework Problems:\n",
    "\n",
    "1. N = 5\n",
    "\n",
    "Output:\n",
    "\n",
    "1 2 3 4 5\n",
    "1 2 3 4\n",
    "1 2 3\n",
    "1 2\n",
    "1\n",
    "\n",
    "2. N = 5\n",
    "\n",
    "Output:\n",
    "\n",
    "*\n",
    "* *\n",
    "* * *\n",
    "* * * *\n",
    "* * * * *\n",
    "\n",
    "3. N = 5\n",
    "\n",
    "Output:\n",
    "\n",
    "0\n",
    "1 0\n",
    "0 1 0\n",
    "1 0 1 0\n",
    "0 1 0 1 0\n",
    "\n",
    "4. \n",
    "\n",
    "N = 5\n",
    "\n",
    "Output:\n",
    "\n",
    "    *    \n",
    "  * * *\n",
    "* * * * * \n",
    "  * * *\n",
    "    *\n",
    "\n",
    "N = 6\n",
    "\n",
    "Output:\n",
    "\n",
    "        *    \n",
    "      * * *\n",
    "    * * * * *\n",
    "  * * * * * * *\n",
    "    * * * * *\n",
    "      * * *\n",
    "        *\n"
   ]
  },
  {
   "cell_type": "markdown",
   "metadata": {},
   "source": [
    "Problems: \n",
    "\n",
    "1. Given a number N, check whether the number is even or not.\n",
    "2. Given a number N, check whether the number is a prime number or not.\n",
    "3. Given a number N, check whether the number is a factorial number or not.\n",
    "4. Given a number N, check whether the number is a fibonacci number or not.\n",
    "5. Given a number N, check whether the number is a power of 2 or not.\n",
    "6. Given a number N, check whether the number is a perfect square number or not."
   ]
  },
  {
   "cell_type": "code",
   "execution_count": null,
   "metadata": {},
   "outputs": [],
   "source": [
    "# Generate the series as long as the values in the series are < N\n",
    "\n",
    "# Two cases that are possible after the loop breaks\n",
    "    # if the value == N, then the number belongs to the series\n",
    "    # else if the value > N, then the number does not belong to the series"
   ]
  },
  {
   "cell_type": "code",
   "execution_count": 4,
   "metadata": {},
   "outputs": [
    {
     "name": "stdout",
     "output_type": "stream",
     "text": [
      "11 is not a power of 2\n"
     ]
    }
   ],
   "source": [
    "# get the value of N from the user\n",
    "N = int(input())\n",
    "\n",
    "# initialize the number of the series to its first value\n",
    "number = 1\n",
    "\n",
    "# Generate the series as long as the values in the series are < N\n",
    "while number < N:\n",
    "    # generate or find the next number in the series\n",
    "    number = number * 2\n",
    "\n",
    "# Two cases that are possible after the loop breaks\n",
    "if number == N:\n",
    "    # if the value == N, then the number belongs to the series\n",
    "    print(N, 'is a power of 2')\n",
    "else:\n",
    "    # else if the value > N, then the number does not belong to the series\n",
    "    print(N, 'is not a power of 2')"
   ]
  }
 ],
 "metadata": {
  "kernelspec": {
   "display_name": "Python 3",
   "language": "python",
   "name": "python3"
  },
  "language_info": {
   "codemirror_mode": {
    "name": "ipython",
    "version": 3
   },
   "file_extension": ".py",
   "mimetype": "text/x-python",
   "name": "python",
   "nbconvert_exporter": "python",
   "pygments_lexer": "ipython3",
   "version": "3.11.4"
  }
 },
 "nbformat": 4,
 "nbformat_minor": 2
}
